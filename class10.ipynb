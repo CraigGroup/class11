{
 "cells": [
  {
   "cell_type": "markdown",
   "metadata": {
    "id": "834t49zymVdO"
   },
   "source": [
    "# In-class exercises Class 10\n",
    "\n",
    "---\n",
    "\n",
    "Already in class we have used several examples of \"flow control\": loops, if, else, while...  Today we will make it a tad more formal and hopefully a little more clear what all of those special statements are doing in your programs.  \n",
    "\n",
    "We have seen in python that indentation levels are used to indicate which lines of code belong in a block.  This is true for conditionals and loops, and we will also see that this is used for funtions. \n",
    "\n",
    "### True/False Boolean \n",
    "\n",
    "True and False are special words in python and can be used in conditional statements\n",
    "\n"
   ]
  },
  {
   "cell_type": "code",
   "execution_count": 10,
   "metadata": {},
   "outputs": [
    {
     "name": "stdout",
     "output_type": "stream",
     "text": [
      "it is true\n"
     ]
    }
   ],
   "source": [
    "\n",
    "if True:\n",
    "    print(\"it is true\")\n"
   ]
  },
  {
   "cell_type": "code",
   "execution_count": 11,
   "metadata": {},
   "outputs": [
    {
     "name": "stdout",
     "output_type": "stream",
     "text": [
      "<class 'bool'>\n",
      "the conditional was False\n"
     ]
    }
   ],
   "source": [
    "b=False\n",
    "print(type(b))\n",
    "if False:\n",
    "    print(\"this should not be printed!\")\n",
    "else:\n",
    "    print(\"the conditional was False\")"
   ]
  },
  {
   "cell_type": "markdown",
   "metadata": {},
   "source": [
    "You may have not yet used the \"and\"/\"or\" operators:"
   ]
  },
  {
   "cell_type": "code",
   "execution_count": 12,
   "metadata": {},
   "outputs": [
    {
     "name": "stdout",
     "output_type": "stream",
     "text": [
      "a or b is true\n",
      "a is true and b is false\n"
     ]
    }
   ],
   "source": [
    "a=True\n",
    "b=False\n",
    "if a and b:\n",
    "    print(\"a and b are true\")\n",
    "if a or b:\n",
    "    print(\"a or b is true\")\n",
    "if a and not b:  # There is also a \"not\"  operator  ! is also the not operator\n",
    "    print(\"a is true and b is false\")"
   ]
  },
  {
   "cell_type": "code",
   "execution_count": 13,
   "metadata": {},
   "outputs": [
    {
     "data": {
      "text/plain": [
       "False"
      ]
     },
     "execution_count": 13,
     "metadata": {},
     "output_type": "execute_result"
    }
   ],
   "source": [
    "a=10\n",
    "a>20"
   ]
  },
  {
   "cell_type": "code",
   "execution_count": 14,
   "metadata": {},
   "outputs": [
    {
     "data": {
      "text/plain": [
       "False"
      ]
     },
     "execution_count": 14,
     "metadata": {},
     "output_type": "execute_result"
    }
   ],
   "source": [
    "a<10"
   ]
  },
  {
   "cell_type": "code",
   "execution_count": 15,
   "metadata": {},
   "outputs": [
    {
     "data": {
      "text/plain": [
       "False"
      ]
     },
     "execution_count": 15,
     "metadata": {},
     "output_type": "execute_result"
    }
   ],
   "source": [
    "a == 20\n"
   ]
  },
  {
   "cell_type": "code",
   "execution_count": 16,
   "metadata": {},
   "outputs": [
    {
     "data": {
      "text/plain": [
       "True"
      ]
     },
     "execution_count": 16,
     "metadata": {},
     "output_type": "execute_result"
    }
   ],
   "source": [
    "a != 20\n"
   ]
  },
  {
   "cell_type": "code",
   "execution_count": 17,
   "metadata": {},
   "outputs": [
    {
     "data": {
      "text/plain": [
       "False"
      ]
     },
     "execution_count": 17,
     "metadata": {},
     "output_type": "execute_result"
    }
   ],
   "source": [
    "a <10 "
   ]
  },
  {
   "cell_type": "code",
   "execution_count": 18,
   "metadata": {},
   "outputs": [
    {
     "data": {
      "text/plain": [
       "True"
      ]
     },
     "execution_count": 18,
     "metadata": {},
     "output_type": "execute_result"
    }
   ],
   "source": [
    "a <=10"
   ]
  },
  {
   "cell_type": "code",
   "execution_count": 19,
   "metadata": {},
   "outputs": [
    {
     "data": {
      "text/plain": [
       "True"
      ]
     },
     "execution_count": 19,
     "metadata": {},
     "output_type": "execute_result"
    }
   ],
   "source": [
    "a % 10 ==0 #Is it divisible by 10?  \n"
   ]
  },
  {
   "cell_type": "markdown",
   "metadata": {},
   "source": [
    "## **EXERCISE 1**:  \n",
    "<span style=\"color:red\"> Use a 'for' loop to print out which integers (between 1 and 5) that 'a' is divisible by </red>"
   ]
  },
  {
   "cell_type": "code",
   "execution_count": 20,
   "metadata": {},
   "outputs": [],
   "source": [
    "#Put your code here."
   ]
  },
  {
   "cell_type": "markdown",
   "metadata": {},
   "source": [
    "### if, else, and elif\n",
    "\n",
    "We have seen if/else, bu there is also \"elif\":"
   ]
  },
  {
   "cell_type": "code",
   "execution_count": 21,
   "metadata": {},
   "outputs": [
    {
     "name": "stdout",
     "output_type": "stream",
     "text": [
      "a is positive\n",
      "10\n"
     ]
    }
   ],
   "source": [
    "if a<0:\n",
    "    print(\"a is negative\")\n",
    "elif a==0:\n",
    "    print(\"a is zero\")\n",
    "else:\n",
    "    print(\"a is positive\")\n",
    "    print(a)"
   ]
  },
  {
   "cell_type": "markdown",
   "metadata": {},
   "source": [
    "### for loops\n",
    "\n",
    "While slow, \"for loops\" in python can be extremely useful.  We can use a for loop over any type that is iterable.  Here is an example using a range:"
   ]
  },
  {
   "cell_type": "code",
   "execution_count": 22,
   "metadata": {},
   "outputs": [
    {
     "name": "stdout",
     "output_type": "stream",
     "text": [
      "0\n",
      "1\n",
      "2\n"
     ]
    }
   ],
   "source": [
    "\n",
    "myrange=range(3)\n",
    "\n",
    "for x in myrange:\n",
    "    print(x)\n",
    "    "
   ]
  },
  {
   "cell_type": "markdown",
   "metadata": {},
   "source": [
    "Here is an example using a list of strings:"
   ]
  },
  {
   "cell_type": "code",
   "execution_count": 23,
   "metadata": {},
   "outputs": [
    {
     "name": "stdout",
     "output_type": "stream",
     "text": [
      "['moon', 'planet', 'star', 'galaxy', 'universe']\n",
      "moon\n",
      "planet\n",
      "star\n",
      "galaxy\n",
      "universe\n"
     ]
    }
   ],
   "source": [
    "mylist=[\"moon\",\"planet\",\"star\",\"galaxy\",\"universe\"]\n",
    "print(mylist)\n",
    "for astro in mylist:\n",
    "    print(astro)"
   ]
  },
  {
   "cell_type": "markdown",
   "metadata": {},
   "source": [
    "Or, we can also do it this way:"
   ]
  },
  {
   "cell_type": "code",
   "execution_count": 24,
   "metadata": {},
   "outputs": [
    {
     "name": "stdout",
     "output_type": "stream",
     "text": [
      "0:moon\n",
      "1:planet\n",
      "2:star\n",
      "3:galaxy\n",
      "4:universe\n"
     ]
    }
   ],
   "source": [
    "for i in range(len(mylist)):\n",
    "    print(f\"{i}:{mylist[i]}\")"
   ]
  },
  {
   "cell_type": "markdown",
   "metadata": {},
   "source": [
    "Another option is the \"enumerate\" function:"
   ]
  },
  {
   "cell_type": "code",
   "execution_count": 25,
   "metadata": {},
   "outputs": [
    {
     "name": "stdout",
     "output_type": "stream",
     "text": [
      "0 moon\n",
      "1 planet\n",
      "2 star\n",
      "3 galaxy\n",
      "4 universe\n"
     ]
    }
   ],
   "source": [
    "for i, obj in enumerate(mylist):\n",
    "    print(i, obj)"
   ]
  },
  {
   "cell_type": "raw",
   "metadata": {},
   "source": [
    "Enumerate can be useful when you need a nested loop:"
   ]
  },
  {
   "cell_type": "code",
   "execution_count": 26,
   "metadata": {},
   "outputs": [
    {
     "name": "stdout",
     "output_type": "stream",
     "text": [
      "0 moon planet\n",
      "0 moon star\n",
      "0 moon galaxy\n",
      "0 moon universe\n",
      "1 planet star\n",
      "1 planet galaxy\n",
      "1 planet universe\n",
      "2 star galaxy\n",
      "2 star universe\n",
      "3 galaxy universe\n"
     ]
    }
   ],
   "source": [
    "for i, obj in enumerate(mylist):\n",
    "    for obj2 in mylist[i+1:]:\n",
    "        print(i,obj,obj2)"
   ]
  },
  {
   "cell_type": "code",
   "execution_count": null,
   "metadata": {},
   "outputs": [],
   "source": []
  },
  {
   "cell_type": "markdown",
   "metadata": {},
   "source": [
    "## **EXERCISE 2**:  \n",
    "<span style=\"color:red\"> You are out to eat and there are 7 things on the menu. How many differnt ways could you choose two of them?  Write a nested loop using enumerate to figure it out.   </red>"
   ]
  },
  {
   "cell_type": "code",
   "execution_count": 27,
   "metadata": {},
   "outputs": [
    {
     "name": "stdout",
     "output_type": "stream",
     "text": [
      "\n",
      " There are 0 combinations!\n"
     ]
    }
   ],
   "source": [
    "#USE THIS FOR EXERCISE 2\n",
    "\n",
    "menu_list=[\"eggs\",\"bacon\",\"sausage\",\"biscuits\",\"grits\",\"french toast\",\"pancakes\"]\n",
    "\n",
    "counter=0\n",
    "\n",
    "#PUT CODE HERE TO COUNT COMBINATIONS\n",
    "        \n",
    "print(f\"\\n There are {counter} combinations!\")\n"
   ]
  },
  {
   "cell_type": "markdown",
   "metadata": {},
   "source": [
    "### While statements\n",
    "\n",
    "While statements are useful when you want to run some piece of code until a condition is met.  We have seen the while statement before..."
   ]
  },
  {
   "cell_type": "code",
   "execution_count": 28,
   "metadata": {},
   "outputs": [
    {
     "name": "stdout",
     "output_type": "stream",
     "text": [
      "0\n",
      "1\n",
      "2\n",
      "3\n",
      "4\n",
      "5\n"
     ]
    }
   ],
   "source": [
    "i = 0\n",
    "while (i<=5):\n",
    "    print(i)\n",
    "    i+=1"
   ]
  },
  {
   "cell_type": "markdown",
   "metadata": {},
   "source": [
    "### break, continue, and pass\n",
    "\n",
    "\n",
    "A \"break\" statement breaks out of the current loop"
   ]
  },
  {
   "cell_type": "code",
   "execution_count": 29,
   "metadata": {},
   "outputs": [
    {
     "name": "stdout",
     "output_type": "stream",
     "text": [
      "0 moon\n",
      "1 planet\n",
      "2 star\n"
     ]
    }
   ],
   "source": [
    "for i, obj in enumerate(mylist):\n",
    "    print(i, obj)\n",
    "    if i==2:\n",
    "        break"
   ]
  },
  {
   "cell_type": "code",
   "execution_count": 30,
   "metadata": {},
   "outputs": [
    {
     "name": "stdout",
     "output_type": "stream",
     "text": [
      "0\n",
      "1\n"
     ]
    }
   ],
   "source": [
    "i = 0\n",
    "while (i<=5):\n",
    "    print(i)\n",
    "    i+=1\n",
    "    if i==2:\n",
    "        break"
   ]
  },
  {
   "cell_type": "markdown",
   "metadata": {},
   "source": [
    "The \"continue\" statement can also be useful.  It skips the rest of the statements in the current block on the loop, but cotinues with the rest of the loop:"
   ]
  },
  {
   "cell_type": "code",
   "execution_count": 31,
   "metadata": {},
   "outputs": [
    {
     "name": "stdout",
     "output_type": "stream",
     "text": [
      "0\n",
      "1\n",
      "skipping i==2\n",
      "3\n",
      "4\n",
      "5\n"
     ]
    }
   ],
   "source": [
    "i = 0\n",
    "while (i<=5):   \n",
    "    \n",
    "    if i==2:\n",
    "        print(\"skipping i==2\")\n",
    "        i+=1\n",
    "        continue\n",
    "    print(i)\n",
    "    i+=1\n",
    "    \n",
    "    "
   ]
  },
  {
   "cell_type": "markdown",
   "metadata": {},
   "source": [
    "We also saw in a past example how While with try/except were used for error exceptions:\n",
    "\n"
   ]
  },
  {
   "cell_type": "code",
   "execution_count": null,
   "metadata": {},
   "outputs": [],
   "source": [
    "while True:\n",
    "    try:\n",
    "        xint=int(input(\"enter and integer:\\n\"))\n",
    "        print(f\"you entered {xint}\")\n",
    "        break\n",
    "    except:\n",
    "        print(\"Not an integer, try again\")\n",
    "        "
   ]
  },
  {
   "cell_type": "markdown",
   "metadata": {},
   "source": [
    "## **EXERCISE 3**:  \n",
    "<span style=\"color:red\"> Loop over the weather list and print each entry.  Add an if statement and a continue statement to the loop so that it skips when iterator equals \"sun\".   </red>"
   ]
  },
  {
   "cell_type": "code",
   "execution_count": null,
   "metadata": {},
   "outputs": [],
   "source": [
    "weather=[\"snow\", \"rain\", \"sun\", \"clouds\"]"
   ]
  },
  {
   "cell_type": "code",
   "execution_count": null,
   "metadata": {},
   "outputs": [],
   "source": [
    "#CODE FOR EXERCISE 3 GOES HERE."
   ]
  }
 ],
 "metadata": {
  "kernelspec": {
   "display_name": "Python 3 (ipykernel)",
   "language": "python",
   "name": "python3"
  },
  "language_info": {
   "codemirror_mode": {
    "name": "ipython",
    "version": 3
   },
   "file_extension": ".py",
   "mimetype": "text/x-python",
   "name": "python",
   "nbconvert_exporter": "python",
   "pygments_lexer": "ipython3",
   "version": "3.8.8"
  }
 },
 "nbformat": 4,
 "nbformat_minor": 4
}
